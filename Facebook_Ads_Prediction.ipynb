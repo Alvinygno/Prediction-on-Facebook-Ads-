{
  "nbformat": 4,
  "nbformat_minor": 0,
  "metadata": {
    "colab": {
      "name": "Facebook Ads Prediction.ipynb",
      "provenance": []
    },
    "kernelspec": {
      "name": "python3",
      "display_name": "Python 3"
    },
    "language_info": {
      "name": "python"
    }
  },
  "cells": [
    {
      "cell_type": "markdown",
      "source": [
        "##Problem Statement\n",
        "#####A company wants to know the type of customers that will click on the advertisement.\n",
        "\n",
        "#####Dataset: https://www.kaggle.com/datasets/reddynitin/facebook-ads"
      ],
      "metadata": {
        "id": "_0xXGpw8LAFF"
      }
    },
    {
      "cell_type": "markdown",
      "source": [
        "##Import Library"
      ],
      "metadata": {
        "id": "me3YH9UtK0Gh"
      }
    },
    {
      "cell_type": "code",
      "source": [
        "import pandas as pd\n",
        "import numpy as np\n",
        "import matplotlib.pyplot as plt\n",
        "import seaborn as sns\n",
        "from sklearn.preprocessing import StandardScaler\n",
        "from sklearn.model_selection import train_test_split\n",
        "from sklearn.linear_model import LogisticRegression\n",
        "from sklearn.metrics import classification_report, confusion_matrix\n",
        "from sklearn.metrics import classification_report"
      ],
      "metadata": {
        "id": "gN2derg9LkxZ"
      },
      "execution_count": 1,
      "outputs": []
    },
    {
      "cell_type": "markdown",
      "source": [
        "##Import Dataset"
      ],
      "metadata": {
        "id": "78uwF6vTLrH8"
      }
    },
    {
      "cell_type": "code",
      "source": [
        "#Read csv dataset using Pandas DataFrame\n",
        "fb = pd.read_csv(\"/content/drive/MyDrive/Colab Notebooks/Portfolio/Facebook Ads Prediction/Facebook_Ads_2.csv\", encoding=\"ISO-8859-1\")"
      ],
      "metadata": {
        "id": "82UiZBgVLwFV"
      },
      "execution_count": 2,
      "outputs": []
    },
    {
      "cell_type": "code",
      "source": [
        "#View the first 5 data\n",
        "fb.head()"
      ],
      "metadata": {
        "colab": {
          "base_uri": "https://localhost:8080/",
          "height": 206
        },
        "id": "wPIQgHz8N54A",
        "outputId": "fa745dff-dc9e-411b-d856-a873ea71ebf8"
      },
      "execution_count": 3,
      "outputs": [
        {
          "output_type": "execute_result",
          "data": {
            "text/plain": [
              "             Names                                             emails  \\\n",
              "0    Martina Avila  cubilia.Curae.Phasellus@quisaccumsanconvallis.edu   \n",
              "1    Harlan Barnes                                eu.dolor@diam.co.uk   \n",
              "2  Naomi Rodriquez  vulputate.mauris.sagittis@ametconsectetueradip...   \n",
              "3  Jade Cunningham                            malesuada@dignissim.com   \n",
              "4     Cedric Leach     felis.ullamcorper.viverra@egetmollislectus.net   \n",
              "\n",
              "        Country  Time Spent on Site       Salary  Clicked  \n",
              "0      Bulgaria           25.649648  55330.06006        0  \n",
              "1        Belize           32.456107  79049.07674        1  \n",
              "2       Algeria           20.945978  41098.60826        0  \n",
              "3  Cook Islands           54.039325  37143.35536        1  \n",
              "4        Brazil           34.249729  37355.11276        0  "
            ],
            "text/html": [
              "\n",
              "  <div id=\"df-15de3fdc-e651-4237-be62-5a0d53b7feea\">\n",
              "    <div class=\"colab-df-container\">\n",
              "      <div>\n",
              "<style scoped>\n",
              "    .dataframe tbody tr th:only-of-type {\n",
              "        vertical-align: middle;\n",
              "    }\n",
              "\n",
              "    .dataframe tbody tr th {\n",
              "        vertical-align: top;\n",
              "    }\n",
              "\n",
              "    .dataframe thead th {\n",
              "        text-align: right;\n",
              "    }\n",
              "</style>\n",
              "<table border=\"1\" class=\"dataframe\">\n",
              "  <thead>\n",
              "    <tr style=\"text-align: right;\">\n",
              "      <th></th>\n",
              "      <th>Names</th>\n",
              "      <th>emails</th>\n",
              "      <th>Country</th>\n",
              "      <th>Time Spent on Site</th>\n",
              "      <th>Salary</th>\n",
              "      <th>Clicked</th>\n",
              "    </tr>\n",
              "  </thead>\n",
              "  <tbody>\n",
              "    <tr>\n",
              "      <th>0</th>\n",
              "      <td>Martina Avila</td>\n",
              "      <td>cubilia.Curae.Phasellus@quisaccumsanconvallis.edu</td>\n",
              "      <td>Bulgaria</td>\n",
              "      <td>25.649648</td>\n",
              "      <td>55330.06006</td>\n",
              "      <td>0</td>\n",
              "    </tr>\n",
              "    <tr>\n",
              "      <th>1</th>\n",
              "      <td>Harlan Barnes</td>\n",
              "      <td>eu.dolor@diam.co.uk</td>\n",
              "      <td>Belize</td>\n",
              "      <td>32.456107</td>\n",
              "      <td>79049.07674</td>\n",
              "      <td>1</td>\n",
              "    </tr>\n",
              "    <tr>\n",
              "      <th>2</th>\n",
              "      <td>Naomi Rodriquez</td>\n",
              "      <td>vulputate.mauris.sagittis@ametconsectetueradip...</td>\n",
              "      <td>Algeria</td>\n",
              "      <td>20.945978</td>\n",
              "      <td>41098.60826</td>\n",
              "      <td>0</td>\n",
              "    </tr>\n",
              "    <tr>\n",
              "      <th>3</th>\n",
              "      <td>Jade Cunningham</td>\n",
              "      <td>malesuada@dignissim.com</td>\n",
              "      <td>Cook Islands</td>\n",
              "      <td>54.039325</td>\n",
              "      <td>37143.35536</td>\n",
              "      <td>1</td>\n",
              "    </tr>\n",
              "    <tr>\n",
              "      <th>4</th>\n",
              "      <td>Cedric Leach</td>\n",
              "      <td>felis.ullamcorper.viverra@egetmollislectus.net</td>\n",
              "      <td>Brazil</td>\n",
              "      <td>34.249729</td>\n",
              "      <td>37355.11276</td>\n",
              "      <td>0</td>\n",
              "    </tr>\n",
              "  </tbody>\n",
              "</table>\n",
              "</div>\n",
              "      <button class=\"colab-df-convert\" onclick=\"convertToInteractive('df-15de3fdc-e651-4237-be62-5a0d53b7feea')\"\n",
              "              title=\"Convert this dataframe to an interactive table.\"\n",
              "              style=\"display:none;\">\n",
              "        \n",
              "  <svg xmlns=\"http://www.w3.org/2000/svg\" height=\"24px\"viewBox=\"0 0 24 24\"\n",
              "       width=\"24px\">\n",
              "    <path d=\"M0 0h24v24H0V0z\" fill=\"none\"/>\n",
              "    <path d=\"M18.56 5.44l.94 2.06.94-2.06 2.06-.94-2.06-.94-.94-2.06-.94 2.06-2.06.94zm-11 1L8.5 8.5l.94-2.06 2.06-.94-2.06-.94L8.5 2.5l-.94 2.06-2.06.94zm10 10l.94 2.06.94-2.06 2.06-.94-2.06-.94-.94-2.06-.94 2.06-2.06.94z\"/><path d=\"M17.41 7.96l-1.37-1.37c-.4-.4-.92-.59-1.43-.59-.52 0-1.04.2-1.43.59L10.3 9.45l-7.72 7.72c-.78.78-.78 2.05 0 2.83L4 21.41c.39.39.9.59 1.41.59.51 0 1.02-.2 1.41-.59l7.78-7.78 2.81-2.81c.8-.78.8-2.07 0-2.86zM5.41 20L4 18.59l7.72-7.72 1.47 1.35L5.41 20z\"/>\n",
              "  </svg>\n",
              "      </button>\n",
              "      \n",
              "  <style>\n",
              "    .colab-df-container {\n",
              "      display:flex;\n",
              "      flex-wrap:wrap;\n",
              "      gap: 12px;\n",
              "    }\n",
              "\n",
              "    .colab-df-convert {\n",
              "      background-color: #E8F0FE;\n",
              "      border: none;\n",
              "      border-radius: 50%;\n",
              "      cursor: pointer;\n",
              "      display: none;\n",
              "      fill: #1967D2;\n",
              "      height: 32px;\n",
              "      padding: 0 0 0 0;\n",
              "      width: 32px;\n",
              "    }\n",
              "\n",
              "    .colab-df-convert:hover {\n",
              "      background-color: #E2EBFA;\n",
              "      box-shadow: 0px 1px 2px rgba(60, 64, 67, 0.3), 0px 1px 3px 1px rgba(60, 64, 67, 0.15);\n",
              "      fill: #174EA6;\n",
              "    }\n",
              "\n",
              "    [theme=dark] .colab-df-convert {\n",
              "      background-color: #3B4455;\n",
              "      fill: #D2E3FC;\n",
              "    }\n",
              "\n",
              "    [theme=dark] .colab-df-convert:hover {\n",
              "      background-color: #434B5C;\n",
              "      box-shadow: 0px 1px 3px 1px rgba(0, 0, 0, 0.15);\n",
              "      filter: drop-shadow(0px 1px 2px rgba(0, 0, 0, 0.3));\n",
              "      fill: #FFFFFF;\n",
              "    }\n",
              "  </style>\n",
              "\n",
              "      <script>\n",
              "        const buttonEl =\n",
              "          document.querySelector('#df-15de3fdc-e651-4237-be62-5a0d53b7feea button.colab-df-convert');\n",
              "        buttonEl.style.display =\n",
              "          google.colab.kernel.accessAllowed ? 'block' : 'none';\n",
              "\n",
              "        async function convertToInteractive(key) {\n",
              "          const element = document.querySelector('#df-15de3fdc-e651-4237-be62-5a0d53b7feea');\n",
              "          const dataTable =\n",
              "            await google.colab.kernel.invokeFunction('convertToInteractive',\n",
              "                                                     [key], {});\n",
              "          if (!dataTable) return;\n",
              "\n",
              "          const docLinkHtml = 'Like what you see? Visit the ' +\n",
              "            '<a target=\"_blank\" href=https://colab.research.google.com/notebooks/data_table.ipynb>data table notebook</a>'\n",
              "            + ' to learn more about interactive tables.';\n",
              "          element.innerHTML = '';\n",
              "          dataTable['output_type'] = 'display_data';\n",
              "          await google.colab.output.renderOutput(dataTable, element);\n",
              "          const docLink = document.createElement('div');\n",
              "          docLink.innerHTML = docLinkHtml;\n",
              "          element.appendChild(docLink);\n",
              "        }\n",
              "      </script>\n",
              "    </div>\n",
              "  </div>\n",
              "  "
            ]
          },
          "metadata": {},
          "execution_count": 3
        }
      ]
    },
    {
      "cell_type": "markdown",
      "source": [
        "#####Class 0 means customers do not click on the Facebook ads while class 1 means customers clicked on the Facebook ads."
      ],
      "metadata": {
        "id": "lSiUKdBmN7ao"
      }
    },
    {
      "cell_type": "markdown",
      "source": [
        "##EDA"
      ],
      "metadata": {
        "id": "Epp56K0IOLJB"
      }
    },
    {
      "cell_type": "code",
      "source": [
        "#Determine the dependent variable, Clicked column\n",
        "click    = fb[fb[\"Clicked\"]==1]\n",
        "no_click = fb[fb[\"Clicked\"]==0]"
      ],
      "metadata": {
        "id": "QHq47irjOT5E"
      },
      "execution_count": 4,
      "outputs": []
    },
    {
      "cell_type": "code",
      "source": [
        "print(\"Total customer: \", len(fb))\n",
        "\n",
        "print(\"Number of customer clicked on adv: \", len(click))\n",
        "print(\"Percentage Clicked: \", 1.*len(click)/len(fb)*100.0, \"%\")\n",
        " \n",
        "print(\"Number of customer Not click on the adv: \", len(no_click))\n",
        "print(\"Percentage who not click: \", 1.*len(no_click)/len(fb)*100.0, \"%\")"
      ],
      "metadata": {
        "colab": {
          "base_uri": "https://localhost:8080/"
        },
        "id": "hgEZkG9aPBmY",
        "outputId": "384382e6-e969-43e6-821e-f814e7025aa9"
      },
      "execution_count": 5,
      "outputs": [
        {
          "output_type": "stream",
          "name": "stdout",
          "text": [
            "Total customer:  499\n",
            "Number of customer clicked on adv:  250\n",
            "Percentage Clicked:  50.1002004008016 %\n",
            "Number of customer Not click on the adv:  249\n",
            "Percentage who not click:  49.899799599198396 %\n"
          ]
        }
      ]
    },
    {
      "cell_type": "code",
      "source": [
        "fb.info()"
      ],
      "metadata": {
        "colab": {
          "base_uri": "https://localhost:8080/"
        },
        "id": "amQ3LKguP1WZ",
        "outputId": "5f4ab730-6075-493e-9d74-e2abb99877d8"
      },
      "execution_count": 6,
      "outputs": [
        {
          "output_type": "stream",
          "name": "stdout",
          "text": [
            "<class 'pandas.core.frame.DataFrame'>\n",
            "RangeIndex: 499 entries, 0 to 498\n",
            "Data columns (total 6 columns):\n",
            " #   Column              Non-Null Count  Dtype  \n",
            "---  ------              --------------  -----  \n",
            " 0   Names               499 non-null    object \n",
            " 1   emails              499 non-null    object \n",
            " 2   Country             499 non-null    object \n",
            " 3   Time Spent on Site  499 non-null    float64\n",
            " 4   Salary              499 non-null    float64\n",
            " 5   Clicked             499 non-null    int64  \n",
            "dtypes: float64(2), int64(1), object(3)\n",
            "memory usage: 23.5+ KB\n"
          ]
        }
      ]
    },
    {
      "cell_type": "code",
      "source": [
        "fb.isna().sum()"
      ],
      "metadata": {
        "colab": {
          "base_uri": "https://localhost:8080/"
        },
        "id": "SOqHILgYLnb1",
        "outputId": "e2999675-0d1b-4454-8ee1-8c379be762f6"
      },
      "execution_count": 14,
      "outputs": [
        {
          "output_type": "execute_result",
          "data": {
            "text/plain": [
              "Names                 0\n",
              "emails                0\n",
              "Country               0\n",
              "Time Spent on Site    0\n",
              "Salary                0\n",
              "Clicked               0\n",
              "dtype: int64"
            ]
          },
          "metadata": {},
          "execution_count": 14
        }
      ]
    },
    {
      "cell_type": "markdown",
      "source": [
        "#####There is no missing value in the dataset."
      ],
      "metadata": {
        "id": "hlkl8W6LQGPS"
      }
    },
    {
      "cell_type": "code",
      "source": [
        "#View the relationship between the time spend on Facebook and the salary of the customer\n",
        "sns.scatterplot(fb[\"Time Spent on Site\"], fb[\"Salary\"], hue = fb[\"Clicked\"])"
      ],
      "metadata": {
        "colab": {
          "base_uri": "https://localhost:8080/",
          "height": 351
        },
        "id": "NdHnyTJ1QEkj",
        "outputId": "d4ce82be-379f-460a-8d06-842e16d3e9e8"
      },
      "execution_count": 7,
      "outputs": [
        {
          "output_type": "stream",
          "name": "stderr",
          "text": [
            "/usr/local/lib/python3.7/dist-packages/seaborn/_decorators.py:43: FutureWarning: Pass the following variables as keyword args: x, y. From version 0.12, the only valid positional argument will be `data`, and passing other arguments without an explicit keyword will result in an error or misinterpretation.\n",
            "  FutureWarning\n"
          ]
        },
        {
          "output_type": "execute_result",
          "data": {
            "text/plain": [
              "<matplotlib.axes._subplots.AxesSubplot at 0x7f145ffc3050>"
            ]
          },
          "metadata": {},
          "execution_count": 7
        },
        {
          "output_type": "display_data",
          "data": {
            "text/plain": [
              "<Figure size 432x288 with 1 Axes>"
            ],
            "image/png": "[encoded data removed]"
          },
          "metadata": {
            "needs_background": "light"
          }
        }
      ]
    },
    {
      "cell_type": "markdown",
      "source": [
        "#####Customers who spend 40 minutes and salary above $60,000 will likely to clicked on the Facebook Advertisement. This might due to customers has more spare time and has high disposable income."
      ],
      "metadata": {
        "id": "WJbHLfiaR4KF"
      }
    },
    {
      "cell_type": "code",
      "source": [
        "plt.figure(figsize=(5, 5))\n",
        "sns.boxplot(x=\"Clicked\", y=\"Salary\", data=fb)"
      ],
      "metadata": {
        "colab": {
          "base_uri": "https://localhost:8080/",
          "height": 351
        },
        "id": "-FNanSD4QdlK",
        "outputId": "f6d19c55-add4-43aa-c97b-b403083c02f9"
      },
      "execution_count": 8,
      "outputs": [
        {
          "output_type": "execute_result",
          "data": {
            "text/plain": [
              "<matplotlib.axes._subplots.AxesSubplot at 0x7f145e912c50>"
            ]
          },
          "metadata": {},
          "execution_count": 8
        },
        {
          "output_type": "display_data",
          "data": {
            "text/plain": [
              "<Figure size 360x360 with 1 Axes>"
            ],
            "image/png": "[encoded data removed]"
          },
          "metadata": {
            "needs_background": "light"
          }
        }
      ]
    },
    {
      "cell_type": "markdown",
      "source": [
        "#####Customers who will clicked on the Facebook advertisement are having high salary than those not click. "
      ],
      "metadata": {
        "id": "3bfAvS-RRZ-T"
      }
    },
    {
      "cell_type": "code",
      "source": [
        "plt.figure(figsize=(5, 5))\n",
        "sns.boxplot(x=\"Clicked\", y=\"Time Spent on Site\", data=fb)"
      ],
      "metadata": {
        "colab": {
          "base_uri": "https://localhost:8080/",
          "height": 351
        },
        "id": "0lxOshmtUlGj",
        "outputId": "490102ca-a7ce-4c76-f3f7-a417aa53b07a"
      },
      "execution_count": 9,
      "outputs": [
        {
          "output_type": "execute_result",
          "data": {
            "text/plain": [
              "<matplotlib.axes._subplots.AxesSubplot at 0x7f145e4bb810>"
            ]
          },
          "metadata": {},
          "execution_count": 9
        },
        {
          "output_type": "display_data",
          "data": {
            "text/plain": [
              "<Figure size 360x360 with 1 Axes>"
            ],
            "image/png": "[encoded data removed]"
          },
          "metadata": {
            "needs_background": "light"
          }
        }
      ]
    },
    {
      "cell_type": "markdown",
      "source": [
        "#####Customers who will click on the Facebook advertisement will spend more time on Facebook."
      ],
      "metadata": {
        "id": "dH0qzlNqVLf3"
      }
    },
    {
      "cell_type": "code",
      "source": [
        "fb[\"Salary\"].hist(bins = 40)"
      ],
      "metadata": {
        "colab": {
          "base_uri": "https://localhost:8080/",
          "height": 282
        },
        "id": "fXTP71b_VEs-",
        "outputId": "9e62302c-27fb-40fe-e1da-20bd945a1cea"
      },
      "execution_count": 10,
      "outputs": [
        {
          "output_type": "execute_result",
          "data": {
            "text/plain": [
              "<matplotlib.axes._subplots.AxesSubplot at 0x7f145e3e1250>"
            ]
          },
          "metadata": {},
          "execution_count": 10
        },
        {
          "output_type": "display_data",
          "data": {
            "text/plain": [
              "<Figure size 432x288 with 1 Axes>"
            ],
            "image/png": "[encoded data removed]"
          },
          "metadata": {
            "needs_background": "light"
          }
        }
      ]
    },
    {
      "cell_type": "markdown",
      "source": [
        "#####Majority of the customers are earning between $30,000 to $80,000."
      ],
      "metadata": {
        "id": "tL3RBurCWGvJ"
      }
    },
    {
      "cell_type": "code",
      "source": [
        "fb[\"Time Spent on Site\"].hist(bins = 20)"
      ],
      "metadata": {
        "colab": {
          "base_uri": "https://localhost:8080/",
          "height": 282
        },
        "id": "h-9B0HvbVfMq",
        "outputId": "cd7c9e03-e4f1-4bbe-9444-95dab804bfff"
      },
      "execution_count": 11,
      "outputs": [
        {
          "output_type": "execute_result",
          "data": {
            "text/plain": [
              "<matplotlib.axes._subplots.AxesSubplot at 0x7f145e2b5150>"
            ]
          },
          "metadata": {},
          "execution_count": 11
        },
        {
          "output_type": "display_data",
          "data": {
            "text/plain": [
              "<Figure size 432x288 with 1 Axes>"
            ],
            "image/png": "[encoded data removed]"
          },
          "metadata": {
            "needs_background": "light"
          }
        }
      ]
    },
    {
      "cell_type": "markdown",
      "source": [
        "#####Majority of the customers will spend 20-40 minutes on Facebook "
      ],
      "metadata": {
        "id": "3GZM3StWV4o1"
      }
    },
    {
      "cell_type": "markdown",
      "source": [
        "##Data Cleaning"
      ],
      "metadata": {
        "id": "tdKAnK1sVn8i"
      }
    },
    {
      "cell_type": "code",
      "source": [
        "#View the first 5 row of the original data\n",
        "fb.head()"
      ],
      "metadata": {
        "colab": {
          "base_uri": "https://localhost:8080/",
          "height": 206
        },
        "id": "kp6-JILdWjdZ",
        "outputId": "ce1e008c-9cd5-4679-9ed7-1226b127b60d"
      },
      "execution_count": null,
      "outputs": [
        {
          "output_type": "execute_result",
          "data": {
            "text/plain": [
              "             Names                                             emails  \\\n",
              "0    Martina Avila  cubilia.Curae.Phasellus@quisaccumsanconvallis.edu   \n",
              "1    Harlan Barnes                                eu.dolor@diam.co.uk   \n",
              "2  Naomi Rodriquez  vulputate.mauris.sagittis@ametconsectetueradip...   \n",
              "3  Jade Cunningham                            malesuada@dignissim.com   \n",
              "4     Cedric Leach     felis.ullamcorper.viverra@egetmollislectus.net   \n",
              "\n",
              "        Country  Time Spent on Site       Salary  Clicked  \n",
              "0      Bulgaria           25.649648  55330.06006        0  \n",
              "1        Belize           32.456107  79049.07674        1  \n",
              "2       Algeria           20.945978  41098.60826        0  \n",
              "3  Cook Islands           54.039325  37143.35536        1  \n",
              "4        Brazil           34.249729  37355.11276        0  "
            ],
            "text/html": [
              "\n",
              "  <div id=\"df-c32ef8b0-db9e-4eae-a3c5-afa766047a5f\">\n",
              "    <div class=\"colab-df-container\">\n",
              "      <div>\n",
              "<style scoped>\n",
              "    .dataframe tbody tr th:only-of-type {\n",
              "        vertical-align: middle;\n",
              "    }\n",
              "\n",
              "    .dataframe tbody tr th {\n",
              "        vertical-align: top;\n",
              "    }\n",
              "\n",
              "    .dataframe thead th {\n",
              "        text-align: right;\n",
              "    }\n",
              "</style>\n",
              "<table border=\"1\" class=\"dataframe\">\n",
              "  <thead>\n",
              "    <tr style=\"text-align: right;\">\n",
              "      <th></th>\n",
              "      <th>Names</th>\n",
              "      <th>emails</th>\n",
              "      <th>Country</th>\n",
              "      <th>Time Spent on Site</th>\n",
              "      <th>Salary</th>\n",
              "      <th>Clicked</th>\n",
              "    </tr>\n",
              "  </thead>\n",
              "  <tbody>\n",
              "    <tr>\n",
              "      <th>0</th>\n",
              "      <td>Martina Avila</td>\n",
              "      <td>cubilia.Curae.Phasellus@quisaccumsanconvallis.edu</td>\n",
              "      <td>Bulgaria</td>\n",
              "      <td>25.649648</td>\n",
              "      <td>55330.06006</td>\n",
              "      <td>0</td>\n",
              "    </tr>\n",
              "    <tr>\n",
              "      <th>1</th>\n",
              "      <td>Harlan Barnes</td>\n",
              "      <td>eu.dolor@diam.co.uk</td>\n",
              "      <td>Belize</td>\n",
              "      <td>32.456107</td>\n",
              "      <td>79049.07674</td>\n",
              "      <td>1</td>\n",
              "    </tr>\n",
              "    <tr>\n",
              "      <th>2</th>\n",
              "      <td>Naomi Rodriquez</td>\n",
              "      <td>vulputate.mauris.sagittis@ametconsectetueradip...</td>\n",
              "      <td>Algeria</td>\n",
              "      <td>20.945978</td>\n",
              "      <td>41098.60826</td>\n",
              "      <td>0</td>\n",
              "    </tr>\n",
              "    <tr>\n",
              "      <th>3</th>\n",
              "      <td>Jade Cunningham</td>\n",
              "      <td>malesuada@dignissim.com</td>\n",
              "      <td>Cook Islands</td>\n",
              "      <td>54.039325</td>\n",
              "      <td>37143.35536</td>\n",
              "      <td>1</td>\n",
              "    </tr>\n",
              "    <tr>\n",
              "      <th>4</th>\n",
              "      <td>Cedric Leach</td>\n",
              "      <td>felis.ullamcorper.viverra@egetmollislectus.net</td>\n",
              "      <td>Brazil</td>\n",
              "      <td>34.249729</td>\n",
              "      <td>37355.11276</td>\n",
              "      <td>0</td>\n",
              "    </tr>\n",
              "  </tbody>\n",
              "</table>\n",
              "</div>\n",
              "      <button class=\"colab-df-convert\" onclick=\"convertToInteractive('df-c32ef8b0-db9e-4eae-a3c5-afa766047a5f')\"\n",
              "              title=\"Convert this dataframe to an interactive table.\"\n",
              "              style=\"display:none;\">\n",
              "        \n",
              "  <svg xmlns=\"http://www.w3.org/2000/svg\" height=\"24px\"viewBox=\"0 0 24 24\"\n",
              "       width=\"24px\">\n",
              "    <path d=\"M0 0h24v24H0V0z\" fill=\"none\"/>\n",
              "    <path d=\"M18.56 5.44l.94 2.06.94-2.06 2.06-.94-2.06-.94-.94-2.06-.94 2.06-2.06.94zm-11 1L8.5 8.5l.94-2.06 2.06-.94-2.06-.94L8.5 2.5l-.94 2.06-2.06.94zm10 10l.94 2.06.94-2.06 2.06-.94-2.06-.94-.94-2.06-.94 2.06-2.06.94z\"/><path d=\"M17.41 7.96l-1.37-1.37c-.4-.4-.92-.59-1.43-.59-.52 0-1.04.2-1.43.59L10.3 9.45l-7.72 7.72c-.78.78-.78 2.05 0 2.83L4 21.41c.39.39.9.59 1.41.59.51 0 1.02-.2 1.41-.59l7.78-7.78 2.81-2.81c.8-.78.8-2.07 0-2.86zM5.41 20L4 18.59l7.72-7.72 1.47 1.35L5.41 20z\"/>\n",
              "  </svg>\n",
              "      </button>\n",
              "      \n",
              "  <style>\n",
              "    .colab-df-container {\n",
              "      display:flex;\n",
              "      flex-wrap:wrap;\n",
              "      gap: 12px;\n",
              "    }\n",
              "\n",
              "    .colab-df-convert {\n",
              "      background-color: #E8F0FE;\n",
              "      border: none;\n",
              "      border-radius: 50%;\n",
              "      cursor: pointer;\n",
              "      display: none;\n",
              "      fill: #1967D2;\n",
              "      height: 32px;\n",
              "      padding: 0 0 0 0;\n",
              "      width: 32px;\n",
              "    }\n",
              "\n",
              "    .colab-df-convert:hover {\n",
              "      background-color: #E2EBFA;\n",
              "      box-shadow: 0px 1px 2px rgba(60, 64, 67, 0.3), 0px 1px 3px 1px rgba(60, 64, 67, 0.15);\n",
              "      fill: #174EA6;\n",
              "    }\n",
              "\n",
              "    [theme=dark] .colab-df-convert {\n",
              "      background-color: #3B4455;\n",
              "      fill: #D2E3FC;\n",
              "    }\n",
              "\n",
              "    [theme=dark] .colab-df-convert:hover {\n",
              "      background-color: #434B5C;\n",
              "      box-shadow: 0px 1px 3px 1px rgba(0, 0, 0, 0.15);\n",
              "      filter: drop-shadow(0px 1px 2px rgba(0, 0, 0, 0.3));\n",
              "      fill: #FFFFFF;\n",
              "    }\n",
              "  </style>\n",
              "\n",
              "      <script>\n",
              "        const buttonEl =\n",
              "          document.querySelector('#df-c32ef8b0-db9e-4eae-a3c5-afa766047a5f button.colab-df-convert');\n",
              "        buttonEl.style.display =\n",
              "          google.colab.kernel.accessAllowed ? 'block' : 'none';\n",
              "\n",
              "        async function convertToInteractive(key) {\n",
              "          const element = document.querySelector('#df-c32ef8b0-db9e-4eae-a3c5-afa766047a5f');\n",
              "          const dataTable =\n",
              "            await google.colab.kernel.invokeFunction('convertToInteractive',\n",
              "                                                     [key], {});\n",
              "          if (!dataTable) return;\n",
              "\n",
              "          const docLinkHtml = 'Like what you see? Visit the ' +\n",
              "            '<a target=\"_blank\" href=https://colab.research.google.com/notebooks/data_table.ipynb>data table notebook</a>'\n",
              "            + ' to learn more about interactive tables.';\n",
              "          element.innerHTML = '';\n",
              "          dataTable['output_type'] = 'display_data';\n",
              "          await google.colab.output.renderOutput(dataTable, element);\n",
              "          const docLink = document.createElement('div');\n",
              "          docLink.innerHTML = docLinkHtml;\n",
              "          element.appendChild(docLink);\n",
              "        }\n",
              "      </script>\n",
              "    </div>\n",
              "  </div>\n",
              "  "
            ]
          },
          "metadata": {},
          "execution_count": 14
        }
      ]
    },
    {
      "cell_type": "code",
      "source": [
        "#Remove emails, country and names variables as these categorical data is not useful in the model \n",
        "fb.drop(columns=[\"Names\", \"emails\", \"Country\"], axis=1, inplace=True)\n",
        "fb.head()"
      ],
      "metadata": {
        "colab": {
          "base_uri": "https://localhost:8080/",
          "height": 206
        },
        "id": "meSSvM9zZF83",
        "outputId": "22d0f1f9-5eb9-4fee-b4d9-6168821465ab"
      },
      "execution_count": null,
      "outputs": [
        {
          "output_type": "execute_result",
          "data": {
            "text/plain": [
              "   Time Spent on Site       Salary  Clicked\n",
              "0           25.649648  55330.06006        0\n",
              "1           32.456107  79049.07674        1\n",
              "2           20.945978  41098.60826        0\n",
              "3           54.039325  37143.35536        1\n",
              "4           34.249729  37355.11276        0"
            ],
            "text/html": [
              "\n",
              "  <div id=\"df-f97eaa32-9d72-4d56-aa57-564fb92339ab\">\n",
              "    <div class=\"colab-df-container\">\n",
              "      <div>\n",
              "<style scoped>\n",
              "    .dataframe tbody tr th:only-of-type {\n",
              "        vertical-align: middle;\n",
              "    }\n",
              "\n",
              "    .dataframe tbody tr th {\n",
              "        vertical-align: top;\n",
              "    }\n",
              "\n",
              "    .dataframe thead th {\n",
              "        text-align: right;\n",
              "    }\n",
              "</style>\n",
              "<table border=\"1\" class=\"dataframe\">\n",
              "  <thead>\n",
              "    <tr style=\"text-align: right;\">\n",
              "      <th></th>\n",
              "      <th>Time Spent on Site</th>\n",
              "      <th>Salary</th>\n",
              "      <th>Clicked</th>\n",
              "    </tr>\n",
              "  </thead>\n",
              "  <tbody>\n",
              "    <tr>\n",
              "      <th>0</th>\n",
              "      <td>25.649648</td>\n",
              "      <td>55330.06006</td>\n",
              "      <td>0</td>\n",
              "    </tr>\n",
              "    <tr>\n",
              "      <th>1</th>\n",
              "      <td>32.456107</td>\n",
              "      <td>79049.07674</td>\n",
              "      <td>1</td>\n",
              "    </tr>\n",
              "    <tr>\n",
              "      <th>2</th>\n",
              "      <td>20.945978</td>\n",
              "      <td>41098.60826</td>\n",
              "      <td>0</td>\n",
              "    </tr>\n",
              "    <tr>\n",
              "      <th>3</th>\n",
              "      <td>54.039325</td>\n",
              "      <td>37143.35536</td>\n",
              "      <td>1</td>\n",
              "    </tr>\n",
              "    <tr>\n",
              "      <th>4</th>\n",
              "      <td>34.249729</td>\n",
              "      <td>37355.11276</td>\n",
              "      <td>0</td>\n",
              "    </tr>\n",
              "  </tbody>\n",
              "</table>\n",
              "</div>\n",
              "      <button class=\"colab-df-convert\" onclick=\"convertToInteractive('df-f97eaa32-9d72-4d56-aa57-564fb92339ab')\"\n",
              "              title=\"Convert this dataframe to an interactive table.\"\n",
              "              style=\"display:none;\">\n",
              "        \n",
              "  <svg xmlns=\"http://www.w3.org/2000/svg\" height=\"24px\"viewBox=\"0 0 24 24\"\n",
              "       width=\"24px\">\n",
              "    <path d=\"M0 0h24v24H0V0z\" fill=\"none\"/>\n",
              "    <path d=\"M18.56 5.44l.94 2.06.94-2.06 2.06-.94-2.06-.94-.94-2.06-.94 2.06-2.06.94zm-11 1L8.5 8.5l.94-2.06 2.06-.94-2.06-.94L8.5 2.5l-.94 2.06-2.06.94zm10 10l.94 2.06.94-2.06 2.06-.94-2.06-.94-.94-2.06-.94 2.06-2.06.94z\"/><path d=\"M17.41 7.96l-1.37-1.37c-.4-.4-.92-.59-1.43-.59-.52 0-1.04.2-1.43.59L10.3 9.45l-7.72 7.72c-.78.78-.78 2.05 0 2.83L4 21.41c.39.39.9.59 1.41.59.51 0 1.02-.2 1.41-.59l7.78-7.78 2.81-2.81c.8-.78.8-2.07 0-2.86zM5.41 20L4 18.59l7.72-7.72 1.47 1.35L5.41 20z\"/>\n",
              "  </svg>\n",
              "      </button>\n",
              "      \n",
              "  <style>\n",
              "    .colab-df-container {\n",
              "      display:flex;\n",
              "      flex-wrap:wrap;\n",
              "      gap: 12px;\n",
              "    }\n",
              "\n",
              "    .colab-df-convert {\n",
              "      background-color: #E8F0FE;\n",
              "      border: none;\n",
              "      border-radius: 50%;\n",
              "      cursor: pointer;\n",
              "      display: none;\n",
              "      fill: #1967D2;\n",
              "      height: 32px;\n",
              "      padding: 0 0 0 0;\n",
              "      width: 32px;\n",
              "    }\n",
              "\n",
              "    .colab-df-convert:hover {\n",
              "      background-color: #E2EBFA;\n",
              "      box-shadow: 0px 1px 2px rgba(60, 64, 67, 0.3), 0px 1px 3px 1px rgba(60, 64, 67, 0.15);\n",
              "      fill: #174EA6;\n",
              "    }\n",
              "\n",
              "    [theme=dark] .colab-df-convert {\n",
              "      background-color: #3B4455;\n",
              "      fill: #D2E3FC;\n",
              "    }\n",
              "\n",
              "    [theme=dark] .colab-df-convert:hover {\n",
              "      background-color: #434B5C;\n",
              "      box-shadow: 0px 1px 3px 1px rgba(0, 0, 0, 0.15);\n",
              "      filter: drop-shadow(0px 1px 2px rgba(0, 0, 0, 0.3));\n",
              "      fill: #FFFFFF;\n",
              "    }\n",
              "  </style>\n",
              "\n",
              "      <script>\n",
              "        const buttonEl =\n",
              "          document.querySelector('#df-f97eaa32-9d72-4d56-aa57-564fb92339ab button.colab-df-convert');\n",
              "        buttonEl.style.display =\n",
              "          google.colab.kernel.accessAllowed ? 'block' : 'none';\n",
              "\n",
              "        async function convertToInteractive(key) {\n",
              "          const element = document.querySelector('#df-f97eaa32-9d72-4d56-aa57-564fb92339ab');\n",
              "          const dataTable =\n",
              "            await google.colab.kernel.invokeFunction('convertToInteractive',\n",
              "                                                     [key], {});\n",
              "          if (!dataTable) return;\n",
              "\n",
              "          const docLinkHtml = 'Like what you see? Visit the ' +\n",
              "            '<a target=\"_blank\" href=https://colab.research.google.com/notebooks/data_table.ipynb>data table notebook</a>'\n",
              "            + ' to learn more about interactive tables.';\n",
              "          element.innerHTML = '';\n",
              "          dataTable['output_type'] = 'display_data';\n",
              "          await google.colab.output.renderOutput(dataTable, element);\n",
              "          const docLink = document.createElement('div');\n",
              "          docLink.innerHTML = docLinkHtml;\n",
              "          element.appendChild(docLink);\n",
              "        }\n",
              "      </script>\n",
              "    </div>\n",
              "  </div>\n",
              "  "
            ]
          },
          "metadata": {},
          "execution_count": 15
        }
      ]
    },
    {
      "cell_type": "code",
      "source": [
        "#Define X and y \n",
        "X = fb.drop(\"Clicked\", axis=1).values\n",
        "y = fb[\"Clicked\"].values"
      ],
      "metadata": {
        "id": "b3XxkawHeOhZ"
      },
      "execution_count": null,
      "outputs": []
    },
    {
      "cell_type": "code",
      "source": [
        "X.shape"
      ],
      "metadata": {
        "colab": {
          "base_uri": "https://localhost:8080/"
        },
        "id": "IAnqttFpfSJC",
        "outputId": "b8558958-eeda-4c70-95dc-0606d9749e9c"
      },
      "execution_count": null,
      "outputs": [
        {
          "output_type": "execute_result",
          "data": {
            "text/plain": [
              "(499, 2)"
            ]
          },
          "metadata": {},
          "execution_count": 18
        }
      ]
    },
    {
      "cell_type": "code",
      "source": [
        "y.shape"
      ],
      "metadata": {
        "colab": {
          "base_uri": "https://localhost:8080/"
        },
        "id": "SKaRNOJffUKK",
        "outputId": "da3af909-994b-4122-d671-8005986edc94"
      },
      "execution_count": null,
      "outputs": [
        {
          "output_type": "execute_result",
          "data": {
            "text/plain": [
              "(499,)"
            ]
          },
          "metadata": {},
          "execution_count": 19
        }
      ]
    },
    {
      "cell_type": "code",
      "source": [
        "type(X)"
      ],
      "metadata": {
        "colab": {
          "base_uri": "https://localhost:8080/"
        },
        "id": "huMOe_4RfXj7",
        "outputId": "f4251f57-9c11-419e-be1d-de3e38436668"
      },
      "execution_count": null,
      "outputs": [
        {
          "output_type": "execute_result",
          "data": {
            "text/plain": [
              "numpy.ndarray"
            ]
          },
          "metadata": {},
          "execution_count": 22
        }
      ]
    },
    {
      "cell_type": "code",
      "source": [
        "#View the first 5 rows of original data \n",
        "X[:5, :2]"
      ],
      "metadata": {
        "id": "dYk0BzLHjyQL"
      },
      "execution_count": null,
      "outputs": []
    },
    {
      "cell_type": "code",
      "source": [
        "# Feature Scaling\n",
        "sc = StandardScaler()\n",
        "X = sc.fit_transform(X)"
      ],
      "metadata": {
        "id": "9FnnNZyjfZ7k"
      },
      "execution_count": null,
      "outputs": []
    },
    {
      "cell_type": "code",
      "source": [
        "#View the first 5 rows after performed scaling\n",
        "X[:5, :2]"
      ],
      "metadata": {
        "colab": {
          "base_uri": "https://localhost:8080/"
        },
        "id": "7KsMjd5wfkZG",
        "outputId": "f2e61724-70e7-4778-a14a-902e6038c825"
      },
      "execution_count": null,
      "outputs": [
        {
          "output_type": "execute_result",
          "data": {
            "text/plain": [
              "array([[-0.79945766,  0.12825771],\n",
              "       [-0.05102869,  1.37859159],\n",
              "       [-1.31666684, -0.62194482],\n",
              "       [ 2.3222327 , -0.83044362],\n",
              "       [ 0.14619557, -0.81928096]])"
            ]
          },
          "metadata": {},
          "execution_count": 28
        }
      ]
    },
    {
      "cell_type": "markdown",
      "source": [
        "##Model Building"
      ],
      "metadata": {
        "id": "FCTU3f2fjSEv"
      }
    },
    {
      "cell_type": "code",
      "source": [
        "X_train, X_test, y_train, y_test = train_test_split(X, y, test_size=0.2, random_state=0)"
      ],
      "metadata": {
        "id": "nM80JPj-uT7V"
      },
      "execution_count": null,
      "outputs": []
    },
    {
      "cell_type": "code",
      "source": [
        "X_train.shape, y_train.shape"
      ],
      "metadata": {
        "colab": {
          "base_uri": "https://localhost:8080/"
        },
        "id": "9Tj0Ru-eueV1",
        "outputId": "664480a3-8d87-419a-90a1-81f0ab855664"
      },
      "execution_count": null,
      "outputs": [
        {
          "output_type": "execute_result",
          "data": {
            "text/plain": [
              "((399, 2), (399,))"
            ]
          },
          "metadata": {},
          "execution_count": 35
        }
      ]
    },
    {
      "cell_type": "code",
      "source": [
        "X_test.shape, y_test.shape"
      ],
      "metadata": {
        "colab": {
          "base_uri": "https://localhost:8080/"
        },
        "id": "aXML1v3iumRw",
        "outputId": "36e102bd-ec0e-410a-81a8-c8cfaff825b3"
      },
      "execution_count": null,
      "outputs": [
        {
          "output_type": "execute_result",
          "data": {
            "text/plain": [
              "((100, 2), (100,))"
            ]
          },
          "metadata": {},
          "execution_count": 36
        }
      ]
    },
    {
      "cell_type": "code",
      "source": [
        "# Fitting Logistic Regression to the training set\n",
        "lr = LogisticRegression(random_state = 0)\n",
        "lr.fit(X_train, y_train)"
      ],
      "metadata": {
        "colab": {
          "base_uri": "https://localhost:8080/"
        },
        "id": "kaatLKCHu4bO",
        "outputId": "907bc0cd-24f6-4918-eeee-155e621cc517"
      },
      "execution_count": null,
      "outputs": [
        {
          "output_type": "execute_result",
          "data": {
            "text/plain": [
              "LogisticRegression(random_state=0)"
            ]
          },
          "metadata": {},
          "execution_count": 38
        }
      ]
    },
    {
      "cell_type": "code",
      "source": [
        "#Predict probability for train data\n",
        "y_proba = lr.predict_proba(X_train)\n",
        "y_proba"
      ],
      "metadata": {
        "colab": {
          "base_uri": "https://localhost:8080/"
        },
        "id": "8XketAHbwTdR",
        "outputId": "c3ad5ca4-363f-4a31-f77e-170007fe2c8d"
      },
      "execution_count": null,
      "outputs": [
        {
          "output_type": "execute_result",
          "data": {
            "text/plain": [
              "array([[1.05007158e-04, 9.99894993e-01],\n",
              "       [7.21499846e-03, 9.92785002e-01],\n",
              "       [4.83202283e-03, 9.95167977e-01],\n",
              "       [1.18633407e-01, 8.81366593e-01],\n",
              "       [1.74720754e-02, 9.82527925e-01],\n",
              "       [9.96855430e-01, 3.14456989e-03],\n",
              "       [4.82293867e-03, 9.95177061e-01],\n",
              "       [7.88139130e-03, 9.92118609e-01],\n",
              "       [3.95242910e-01, 6.04757090e-01],\n",
              "       [8.14470535e-01, 1.85529465e-01],\n",
              "       [1.31210986e-03, 9.98687890e-01],\n",
              "       [9.94076615e-01, 5.92338490e-03],\n",
              "       [9.55240125e-01, 4.47598748e-02],\n",
              "       [5.09329673e-01, 4.90670327e-01],\n",
              "       [4.12416286e-01, 5.87583714e-01],\n",
              "       [9.95447761e-01, 4.55223895e-03],\n",
              "       [1.95670974e-03, 9.98043290e-01],\n",
              "       [7.23689718e-01, 2.76310282e-01],\n",
              "       [4.48124702e-03, 9.95518753e-01],\n",
              "       [9.82796416e-01, 1.72035838e-02],\n",
              "       [9.68092476e-01, 3.19075245e-02],\n",
              "       [8.78140801e-01, 1.21859199e-01],\n",
              "       [9.94132429e-01, 5.86757135e-03],\n",
              "       [9.96750282e-01, 3.24971826e-03],\n",
              "       [9.99043429e-01, 9.56570923e-04],\n",
              "       [3.30690398e-01, 6.69309602e-01],\n",
              "       [1.01131685e-02, 9.89886832e-01],\n",
              "       [9.92328022e-01, 7.67197849e-03],\n",
              "       [8.84436750e-01, 1.15563250e-01],\n",
              "       [9.07565965e-02, 9.09243404e-01],\n",
              "       [8.01199709e-01, 1.98800291e-01],\n",
              "       [2.53992028e-02, 9.74600797e-01],\n",
              "       [5.85784172e-01, 4.14215828e-01],\n",
              "       [9.62330723e-01, 3.76692769e-02],\n",
              "       [9.92701670e-01, 7.29832994e-03],\n",
              "       [9.98439270e-01, 1.56072972e-03],\n",
              "       [9.86762045e-01, 1.32379552e-02],\n",
              "       [4.93495694e-01, 5.06504306e-01],\n",
              "       [9.89779300e-01, 1.02207003e-02],\n",
              "       [3.59488969e-01, 6.40511031e-01],\n",
              "       [3.21453439e-02, 9.67854656e-01],\n",
              "       [9.99194057e-01, 8.05943112e-04],\n",
              "       [1.81042903e-01, 8.18957097e-01],\n",
              "       [1.52991941e-02, 9.84700806e-01],\n",
              "       [3.95280477e-02, 9.60471952e-01],\n",
              "       [8.32980154e-01, 1.67019846e-01],\n",
              "       [3.42674896e-01, 6.57325104e-01],\n",
              "       [5.11903259e-02, 9.48809674e-01],\n",
              "       [1.02882605e-01, 8.97117395e-01],\n",
              "       [1.11822535e-04, 9.99888177e-01],\n",
              "       [2.01039672e-02, 9.79896033e-01],\n",
              "       [9.82243825e-01, 1.77561750e-02],\n",
              "       [9.98074019e-01, 1.92598144e-03],\n",
              "       [9.99900552e-01, 9.94479104e-05],\n",
              "       [8.12756968e-01, 1.87243032e-01],\n",
              "       [4.55971942e-01, 5.44028058e-01],\n",
              "       [5.38656492e-02, 9.46134351e-01],\n",
              "       [9.77918437e-01, 2.20815633e-02],\n",
              "       [3.37046815e-02, 9.66295319e-01],\n",
              "       [5.66494964e-02, 9.43350504e-01],\n",
              "       [8.34571627e-01, 1.65428373e-01],\n",
              "       [9.56868150e-01, 4.31318498e-02],\n",
              "       [1.51211572e-03, 9.98487884e-01],\n",
              "       [7.65276544e-03, 9.92347235e-01],\n",
              "       [3.67368665e-01, 6.32631335e-01],\n",
              "       [2.49654646e-01, 7.50345354e-01],\n",
              "       [9.37451194e-02, 9.06254881e-01],\n",
              "       [1.99460953e-03, 9.98005390e-01],\n",
              "       [8.39360680e-02, 9.16063932e-01],\n",
              "       [1.05080398e-01, 8.94919602e-01],\n",
              "       [9.06670090e-01, 9.33299100e-02],\n",
              "       [7.29779192e-04, 9.99270221e-01],\n",
              "       [7.98833454e-01, 2.01166546e-01],\n",
              "       [7.49730989e-03, 9.92502690e-01],\n",
              "       [9.89782226e-01, 1.02177737e-02],\n",
              "       [5.58406251e-01, 4.41593749e-01],\n",
              "       [9.44248784e-01, 5.57512160e-02],\n",
              "       [7.44067958e-01, 2.55932042e-01],\n",
              "       [9.99405921e-01, 5.94078652e-04],\n",
              "       [6.76509107e-01, 3.23490893e-01],\n",
              "       [1.58943965e-02, 9.84105603e-01],\n",
              "       [9.99723262e-01, 2.76737689e-04],\n",
              "       [9.99838580e-01, 1.61420299e-04],\n",
              "       [2.74188311e-02, 9.72581169e-01],\n",
              "       [9.36346808e-01, 6.36531917e-02],\n",
              "       [1.06908278e-03, 9.98930917e-01],\n",
              "       [2.94930296e-01, 7.05069704e-01],\n",
              "       [3.27796618e-02, 9.67220338e-01],\n",
              "       [9.41431705e-01, 5.85682954e-02],\n",
              "       [9.93313624e-01, 6.68637646e-03],\n",
              "       [9.71786739e-01, 2.82132614e-02],\n",
              "       [4.59357106e-01, 5.40642894e-01],\n",
              "       [9.99359327e-01, 6.40673388e-04],\n",
              "       [9.98143196e-01, 1.85680392e-03],\n",
              "       [2.07640283e-02, 9.79235972e-01],\n",
              "       [1.94909931e-03, 9.98050901e-01],\n",
              "       [2.24420879e-03, 9.97755791e-01],\n",
              "       [9.44891828e-03, 9.90551082e-01],\n",
              "       [7.63506627e-02, 9.23649337e-01],\n",
              "       [5.35532449e-03, 9.94644676e-01],\n",
              "       [2.96480452e-01, 7.03519548e-01],\n",
              "       [1.70977306e-02, 9.82902269e-01],\n",
              "       [8.96890052e-01, 1.03109948e-01],\n",
              "       [9.99919322e-01, 8.06780465e-05],\n",
              "       [1.33893667e-01, 8.66106333e-01],\n",
              "       [2.67601174e-02, 9.73239883e-01],\n",
              "       [9.98641127e-01, 1.35887285e-03],\n",
              "       [7.39029802e-02, 9.26097020e-01],\n",
              "       [8.08478321e-01, 1.91521679e-01],\n",
              "       [1.18997515e-01, 8.81002485e-01],\n",
              "       [2.18656096e-02, 9.78134390e-01],\n",
              "       [9.67121409e-01, 3.28785906e-02],\n",
              "       [8.86301765e-01, 1.13698235e-01],\n",
              "       [9.64541728e-01, 3.54582722e-02],\n",
              "       [9.94322172e-01, 5.67782762e-03],\n",
              "       [1.20252817e-03, 9.98797472e-01],\n",
              "       [9.87065705e-01, 1.29342952e-02],\n",
              "       [9.99802823e-01, 1.97177183e-04],\n",
              "       [3.01004655e-01, 6.98995345e-01],\n",
              "       [4.57647545e-02, 9.54235245e-01],\n",
              "       [9.45329308e-02, 9.05467069e-01],\n",
              "       [4.86951539e-01, 5.13048461e-01],\n",
              "       [7.86171866e-03, 9.92138281e-01],\n",
              "       [5.97644167e-01, 4.02355833e-01],\n",
              "       [5.94835466e-02, 9.40516453e-01],\n",
              "       [9.05226629e-01, 9.47733715e-02],\n",
              "       [1.17604162e-02, 9.88239584e-01],\n",
              "       [9.98909145e-01, 1.09085544e-03],\n",
              "       [2.64135150e-03, 9.97358648e-01],\n",
              "       [2.65687934e-02, 9.73431207e-01],\n",
              "       [8.58468774e-01, 1.41531226e-01],\n",
              "       [9.86330155e-01, 1.36698454e-02],\n",
              "       [3.68327747e-01, 6.31672253e-01],\n",
              "       [2.48302057e-02, 9.75169794e-01],\n",
              "       [7.36625638e-02, 9.26337436e-01],\n",
              "       [3.74784539e-01, 6.25215461e-01],\n",
              "       [1.62805244e-03, 9.98371948e-01],\n",
              "       [4.89508473e-03, 9.95104915e-01],\n",
              "       [1.00936289e-02, 9.89906371e-01],\n",
              "       [9.50882671e-01, 4.91173287e-02],\n",
              "       [2.82858232e-04, 9.99717142e-01],\n",
              "       [2.21882471e-01, 7.78117529e-01],\n",
              "       [9.60834914e-01, 3.91650864e-02],\n",
              "       [9.96224349e-01, 3.77565141e-03],\n",
              "       [9.98059525e-01, 1.94047535e-03],\n",
              "       [5.27271150e-01, 4.72728850e-01],\n",
              "       [9.67493700e-01, 3.25063000e-02],\n",
              "       [2.50199634e-01, 7.49800366e-01],\n",
              "       [9.96807037e-01, 3.19296275e-03],\n",
              "       [9.79894074e-01, 2.01059264e-02],\n",
              "       [9.89036206e-01, 1.09637940e-02],\n",
              "       [1.61145137e-02, 9.83885486e-01],\n",
              "       [2.42304738e-01, 7.57695262e-01],\n",
              "       [9.97403145e-01, 2.59685463e-03],\n",
              "       [7.28110148e-01, 2.71889852e-01],\n",
              "       [3.13497244e-01, 6.86502756e-01],\n",
              "       [1.89712225e-02, 9.81028778e-01],\n",
              "       [9.78575123e-01, 2.14248766e-02],\n",
              "       [4.68704566e-02, 9.53129543e-01],\n",
              "       [8.10531687e-01, 1.89468313e-01],\n",
              "       [8.72564753e-01, 1.27435247e-01],\n",
              "       [9.41413404e-01, 5.85865957e-02],\n",
              "       [9.93775648e-01, 6.22435208e-03],\n",
              "       [7.61854647e-01, 2.38145353e-01],\n",
              "       [1.72812525e-03, 9.98271875e-01],\n",
              "       [7.07506000e-01, 2.92494000e-01],\n",
              "       [9.13372891e-01, 8.66271094e-02],\n",
              "       [1.72015180e-01, 8.27984820e-01],\n",
              "       [2.71342252e-01, 7.28657748e-01],\n",
              "       [4.74350355e-01, 5.25649645e-01],\n",
              "       [2.51772360e-01, 7.48227640e-01],\n",
              "       [9.46687491e-01, 5.33125087e-02],\n",
              "       [3.40892333e-01, 6.59107667e-01],\n",
              "       [4.52891855e-02, 9.54710814e-01],\n",
              "       [9.39318531e-05, 9.99906068e-01],\n",
              "       [9.97911044e-01, 2.08895616e-03],\n",
              "       [3.68695108e-01, 6.31304892e-01],\n",
              "       [9.97605055e-01, 2.39494512e-03],\n",
              "       [2.06631322e-03, 9.97933687e-01],\n",
              "       [9.91770070e-01, 8.22992951e-03],\n",
              "       [2.58111713e-01, 7.41888287e-01],\n",
              "       [1.25246055e-01, 8.74753945e-01],\n",
              "       [1.68312371e-01, 8.31687629e-01],\n",
              "       [9.51433618e-01, 4.85663823e-02],\n",
              "       [7.48985286e-01, 2.51014714e-01],\n",
              "       [3.49117396e-04, 9.99650883e-01],\n",
              "       [8.07300878e-01, 1.92699122e-01],\n",
              "       [4.79993357e-01, 5.20006643e-01],\n",
              "       [5.95442402e-01, 4.04557598e-01],\n",
              "       [1.04380576e-01, 8.95619424e-01],\n",
              "       [4.19553693e-02, 9.58044631e-01],\n",
              "       [9.54394631e-01, 4.56053688e-02],\n",
              "       [3.46798807e-01, 6.53201193e-01],\n",
              "       [8.22643804e-01, 1.77356196e-01],\n",
              "       [8.09012554e-03, 9.91909874e-01],\n",
              "       [6.34433815e-01, 3.65566185e-01],\n",
              "       [9.97140132e-01, 2.85986785e-03],\n",
              "       [6.20724683e-02, 9.37927532e-01],\n",
              "       [8.58520444e-03, 9.91414796e-01],\n",
              "       [2.50692404e-03, 9.97493076e-01],\n",
              "       [2.55588553e-01, 7.44411447e-01],\n",
              "       [9.96638691e-01, 3.36130904e-03],\n",
              "       [2.92577394e-02, 9.70742261e-01],\n",
              "       [2.22914324e-02, 9.77708568e-01],\n",
              "       [8.61312787e-02, 9.13868721e-01],\n",
              "       [9.92179117e-01, 7.82088314e-03],\n",
              "       [9.97044082e-01, 2.95591767e-03],\n",
              "       [3.59778317e-01, 6.40221683e-01],\n",
              "       [6.21749468e-03, 9.93782505e-01],\n",
              "       [9.49390060e-01, 5.06099400e-02],\n",
              "       [9.95703186e-01, 4.29681359e-03],\n",
              "       [7.86459311e-04, 9.99213541e-01],\n",
              "       [9.83979561e-01, 1.60204390e-02],\n",
              "       [1.18595474e-01, 8.81404526e-01],\n",
              "       [1.23985925e-01, 8.76014075e-01],\n",
              "       [9.65132911e-01, 3.48670892e-02],\n",
              "       [3.60961836e-01, 6.39038164e-01],\n",
              "       [5.09880758e-01, 4.90119242e-01],\n",
              "       [1.95811656e-02, 9.80418834e-01],\n",
              "       [3.75623299e-01, 6.24376701e-01],\n",
              "       [3.13651896e-01, 6.86348104e-01],\n",
              "       [1.55106616e-01, 8.44893384e-01],\n",
              "       [1.24183769e-02, 9.87581623e-01],\n",
              "       [9.94562072e-01, 5.43792793e-03],\n",
              "       [6.14198029e-01, 3.85801971e-01],\n",
              "       [9.99031736e-01, 9.68264423e-04],\n",
              "       [9.86134465e-01, 1.38655353e-02],\n",
              "       [8.56126512e-01, 1.43873488e-01],\n",
              "       [2.13637712e-02, 9.78636229e-01],\n",
              "       [1.67954723e-02, 9.83204528e-01],\n",
              "       [2.17518842e-01, 7.82481158e-01],\n",
              "       [1.28028554e-02, 9.87197145e-01],\n",
              "       [1.27775408e-02, 9.87222459e-01],\n",
              "       [5.44996115e-01, 4.55003885e-01],\n",
              "       [4.21575270e-03, 9.95784247e-01],\n",
              "       [9.91262067e-01, 8.73793255e-03],\n",
              "       [9.98693149e-01, 1.30685092e-03],\n",
              "       [9.93862531e-01, 6.13746910e-03],\n",
              "       [5.39468251e-01, 4.60531749e-01],\n",
              "       [9.67399177e-01, 3.26008235e-02],\n",
              "       [2.57894276e-02, 9.74210572e-01],\n",
              "       [2.42461264e-03, 9.97575387e-01],\n",
              "       [3.95555237e-03, 9.96044448e-01],\n",
              "       [9.99931474e-01, 6.85260446e-05],\n",
              "       [9.16470127e-01, 8.35298727e-02],\n",
              "       [7.83598909e-01, 2.16401091e-01],\n",
              "       [9.94710510e-01, 5.28949010e-03],\n",
              "       [9.99864477e-01, 1.35523347e-04],\n",
              "       [2.37091331e-01, 7.62908669e-01],\n",
              "       [9.16951313e-01, 8.30486865e-02],\n",
              "       [7.61471497e-01, 2.38528503e-01],\n",
              "       [1.16102752e-01, 8.83897248e-01],\n",
              "       [9.52163257e-01, 4.78367433e-02],\n",
              "       [5.34288550e-02, 9.46571145e-01],\n",
              "       [1.08324403e-01, 8.91675597e-01],\n",
              "       [2.79411853e-03, 9.97205881e-01],\n",
              "       [9.84162922e-01, 1.58370781e-02],\n",
              "       [9.44231607e-01, 5.57683926e-02],\n",
              "       [6.16266311e-02, 9.38373369e-01],\n",
              "       [8.80314694e-01, 1.19685306e-01],\n",
              "       [8.74574730e-01, 1.25425270e-01],\n",
              "       [1.94416121e-02, 9.80558388e-01],\n",
              "       [1.39945182e-03, 9.98600548e-01],\n",
              "       [3.78021470e-01, 6.21978530e-01],\n",
              "       [2.69594781e-01, 7.30405219e-01],\n",
              "       [3.56974502e-02, 9.64302550e-01],\n",
              "       [9.87569825e-01, 1.24301753e-02],\n",
              "       [4.83007418e-01, 5.16992582e-01],\n",
              "       [1.76535047e-04, 9.99823465e-01],\n",
              "       [2.61437388e-01, 7.38562612e-01],\n",
              "       [9.85877341e-01, 1.41226594e-02],\n",
              "       [8.04808517e-01, 1.95191483e-01],\n",
              "       [8.79637412e-01, 1.20362588e-01],\n",
              "       [9.99115317e-01, 8.84682930e-04],\n",
              "       [8.75868215e-01, 1.24131785e-01],\n",
              "       [2.09360741e-03, 9.97906393e-01],\n",
              "       [9.99911072e-01, 8.89282486e-05],\n",
              "       [9.90108235e-01, 9.89176528e-03],\n",
              "       [2.98561411e-01, 7.01438589e-01],\n",
              "       [5.35926922e-02, 9.46407308e-01],\n",
              "       [7.31738232e-01, 2.68261768e-01],\n",
              "       [9.87104001e-01, 1.28959995e-02],\n",
              "       [9.53136322e-01, 4.68636783e-02],\n",
              "       [1.86783343e-03, 9.98132167e-01],\n",
              "       [6.34983034e-02, 9.36501697e-01],\n",
              "       [9.89517537e-01, 1.04824633e-02],\n",
              "       [9.97362399e-01, 2.63760116e-03],\n",
              "       [8.74836737e-01, 1.25163263e-01],\n",
              "       [1.15318085e-01, 8.84681915e-01],\n",
              "       [1.11179895e-02, 9.88882010e-01],\n",
              "       [1.33471693e-02, 9.86652831e-01],\n",
              "       [7.54421480e-04, 9.99245579e-01],\n",
              "       [9.81844650e-01, 1.81553502e-02],\n",
              "       [9.54226674e-01, 4.57733259e-02],\n",
              "       [4.42479621e-03, 9.95575204e-01],\n",
              "       [2.60681601e-02, 9.73931840e-01],\n",
              "       [8.27565222e-01, 1.72434778e-01],\n",
              "       [1.22284725e-02, 9.87771527e-01],\n",
              "       [1.72504141e-01, 8.27495859e-01],\n",
              "       [3.77308840e-01, 6.22691160e-01],\n",
              "       [4.61401317e-02, 9.53859868e-01],\n",
              "       [8.93566253e-02, 9.10643375e-01],\n",
              "       [9.88235467e-01, 1.17645327e-02],\n",
              "       [9.90371085e-01, 9.62891525e-03],\n",
              "       [2.08487388e-04, 9.99791513e-01],\n",
              "       [7.52954700e-03, 9.92470453e-01],\n",
              "       [9.09178500e-01, 9.08215004e-02],\n",
              "       [2.01335454e-01, 7.98664546e-01],\n",
              "       [4.08970849e-01, 5.91029151e-01],\n",
              "       [9.95288772e-01, 4.71122818e-03],\n",
              "       [7.24720689e-01, 2.75279311e-01],\n",
              "       [9.98982904e-02, 9.00101710e-01],\n",
              "       [9.47573556e-01, 5.24264440e-02],\n",
              "       [9.88435886e-01, 1.15641139e-02],\n",
              "       [9.98003691e-01, 1.99630897e-03],\n",
              "       [9.99649242e-01, 3.50758266e-04],\n",
              "       [1.81019311e-02, 9.81898069e-01],\n",
              "       [1.52717902e-01, 8.47282098e-01],\n",
              "       [9.53478936e-02, 9.04652106e-01],\n",
              "       [8.99345661e-01, 1.00654339e-01],\n",
              "       [4.93177866e-04, 9.99506822e-01],\n",
              "       [5.33634926e-03, 9.94663651e-01],\n",
              "       [2.54530549e-03, 9.97454695e-01],\n",
              "       [2.53189712e-02, 9.74681029e-01],\n",
              "       [6.23516408e-01, 3.76483592e-01],\n",
              "       [1.90947483e-01, 8.09052517e-01],\n",
              "       [7.19470613e-02, 9.28052939e-01],\n",
              "       [4.92233032e-03, 9.95077670e-01],\n",
              "       [7.93191213e-02, 9.20680879e-01],\n",
              "       [7.99761034e-01, 2.00238966e-01],\n",
              "       [9.99954466e-01, 4.55339485e-05],\n",
              "       [9.76846686e-01, 2.31533145e-02],\n",
              "       [9.99551626e-01, 4.48374211e-04],\n",
              "       [9.84435646e-01, 1.55643539e-02],\n",
              "       [9.66259530e-01, 3.37404703e-02],\n",
              "       [9.53234666e-01, 4.67653343e-02],\n",
              "       [8.74622630e-01, 1.25377370e-01],\n",
              "       [9.62696106e-01, 3.73038944e-02],\n",
              "       [9.91834742e-01, 8.16525811e-03],\n",
              "       [9.96794173e-01, 3.20582663e-03],\n",
              "       [7.01872485e-01, 2.98127515e-01],\n",
              "       [3.64983948e-04, 9.99635016e-01],\n",
              "       [8.96483598e-02, 9.10351640e-01],\n",
              "       [9.95048862e-01, 4.95113817e-03],\n",
              "       [9.47528926e-01, 5.24710740e-02],\n",
              "       [8.52016377e-02, 9.14798362e-01],\n",
              "       [9.98483794e-01, 1.51620559e-03],\n",
              "       [9.90278137e-01, 9.72186340e-03],\n",
              "       [9.17833489e-01, 8.21665105e-02],\n",
              "       [9.15186604e-01, 8.48133961e-02],\n",
              "       [9.59955373e-01, 4.00446275e-02],\n",
              "       [6.96988200e-02, 9.30301180e-01],\n",
              "       [9.94118543e-01, 5.88145705e-03],\n",
              "       [6.72042637e-02, 9.32795736e-01],\n",
              "       [2.63605421e-03, 9.97363946e-01],\n",
              "       [4.97423035e-02, 9.50257697e-01],\n",
              "       [8.03555357e-04, 9.99196445e-01],\n",
              "       [3.50915941e-02, 9.64908406e-01],\n",
              "       [9.94060124e-01, 5.93987573e-03],\n",
              "       [3.71759727e-02, 9.62824027e-01],\n",
              "       [7.91607475e-03, 9.92083925e-01],\n",
              "       [9.27396003e-01, 7.26039967e-02],\n",
              "       [1.19630557e-02, 9.88036944e-01],\n",
              "       [1.81186738e-01, 8.18813262e-01],\n",
              "       [7.23934668e-01, 2.76065332e-01],\n",
              "       [9.92908455e-01, 7.09154508e-03],\n",
              "       [6.12985195e-04, 9.99387015e-01],\n",
              "       [6.79216412e-03, 9.93207836e-01],\n",
              "       [9.97867749e-01, 2.13225104e-03],\n",
              "       [9.97046081e-01, 2.95391852e-03],\n",
              "       [8.52195307e-01, 1.47804693e-01],\n",
              "       [2.94482783e-01, 7.05517217e-01],\n",
              "       [9.98191408e-01, 1.80859236e-03],\n",
              "       [9.68314176e-01, 3.16858244e-02],\n",
              "       [2.91655525e-01, 7.08344475e-01],\n",
              "       [7.78820913e-02, 9.22117909e-01],\n",
              "       [1.27399028e-01, 8.72600972e-01],\n",
              "       [5.17598134e-01, 4.82401866e-01],\n",
              "       [1.39124976e-01, 8.60875024e-01],\n",
              "       [9.56365367e-01, 4.36346326e-02],\n",
              "       [2.22437171e-02, 9.77756283e-01],\n",
              "       [1.96194476e-01, 8.03805524e-01],\n",
              "       [8.61832357e-01, 1.38167643e-01],\n",
              "       [9.84220337e-01, 1.57796629e-02],\n",
              "       [9.67537752e-01, 3.24622482e-02],\n",
              "       [6.98490073e-03, 9.93015099e-01],\n",
              "       [6.17975521e-01, 3.82024479e-01],\n",
              "       [8.40685437e-01, 1.59314563e-01],\n",
              "       [9.29377180e-03, 9.90706228e-01],\n",
              "       [9.63231215e-01, 3.67687847e-02],\n",
              "       [9.25800419e-01, 7.41995811e-02],\n",
              "       [3.65335334e-02, 9.63466467e-01],\n",
              "       [7.87080776e-01, 2.12919224e-01],\n",
              "       [9.96845119e-01, 3.15488073e-03],\n",
              "       [8.27762197e-01, 1.72237803e-01],\n",
              "       [9.38748777e-01, 6.12512227e-02],\n",
              "       [9.82302659e-01, 1.76973411e-02],\n",
              "       [9.13700501e-01, 8.62994993e-02],\n",
              "       [6.95504906e-01, 3.04495094e-01]])"
            ]
          },
          "metadata": {},
          "execution_count": 39
        }
      ]
    },
    {
      "cell_type": "code",
      "source": [
        "#Predict for train data\n",
        "y_predict_train = lr.predict(X_train)\n",
        "y_predict_train"
      ],
      "metadata": {
        "colab": {
          "base_uri": "https://localhost:8080/"
        },
        "id": "X_dRppxfw4Dx",
        "outputId": "4358bc9a-f7ab-4aed-86da-ba90baecc898"
      },
      "execution_count": null,
      "outputs": [
        {
          "output_type": "execute_result",
          "data": {
            "text/plain": [
              "array([1, 1, 1, 1, 1, 0, 1, 1, 1, 0, 1, 0, 0, 0, 1, 0, 1, 0, 1, 0, 0, 0,\n",
              "       0, 0, 0, 1, 1, 0, 0, 1, 0, 1, 0, 0, 0, 0, 0, 1, 0, 1, 1, 0, 1, 1,\n",
              "       1, 0, 1, 1, 1, 1, 1, 0, 0, 0, 0, 1, 1, 0, 1, 1, 0, 0, 1, 1, 1, 1,\n",
              "       1, 1, 1, 1, 0, 1, 0, 1, 0, 0, 0, 0, 0, 0, 1, 0, 0, 1, 0, 1, 1, 1,\n",
              "       0, 0, 0, 1, 0, 0, 1, 1, 1, 1, 1, 1, 1, 1, 0, 0, 1, 1, 0, 1, 0, 1,\n",
              "       1, 0, 0, 0, 0, 1, 0, 0, 1, 1, 1, 1, 1, 0, 1, 0, 1, 0, 1, 1, 0, 0,\n",
              "       1, 1, 1, 1, 1, 1, 1, 0, 1, 1, 0, 0, 0, 0, 0, 1, 0, 0, 0, 1, 1, 0,\n",
              "       0, 1, 1, 0, 1, 0, 0, 0, 0, 0, 1, 0, 0, 1, 1, 1, 1, 0, 1, 1, 1, 0,\n",
              "       1, 0, 1, 0, 1, 1, 1, 0, 0, 1, 0, 1, 0, 1, 1, 0, 1, 0, 1, 0, 0, 1,\n",
              "       1, 1, 1, 0, 1, 1, 1, 0, 0, 1, 1, 0, 0, 1, 0, 1, 1, 0, 1, 0, 1, 1,\n",
              "       1, 1, 1, 0, 0, 0, 0, 0, 1, 1, 1, 1, 1, 0, 1, 0, 0, 0, 0, 0, 1, 1,\n",
              "       1, 0, 0, 0, 0, 0, 1, 0, 0, 1, 0, 1, 1, 1, 0, 0, 1, 0, 0, 1, 1, 1,\n",
              "       1, 1, 0, 1, 1, 1, 0, 0, 0, 0, 0, 1, 0, 0, 1, 1, 0, 0, 0, 1, 1, 0,\n",
              "       0, 0, 1, 1, 1, 1, 0, 0, 1, 1, 0, 1, 1, 1, 1, 1, 0, 0, 1, 1, 0, 1,\n",
              "       1, 0, 0, 1, 0, 0, 0, 0, 1, 1, 1, 0, 1, 1, 1, 1, 0, 1, 1, 1, 1, 0,\n",
              "       0, 0, 0, 0, 0, 0, 0, 0, 0, 0, 0, 1, 1, 0, 0, 1, 0, 0, 0, 0, 0, 1,\n",
              "       0, 1, 1, 1, 1, 1, 0, 1, 1, 0, 1, 1, 0, 0, 1, 1, 0, 0, 0, 1, 0, 0,\n",
              "       1, 1, 1, 0, 1, 0, 1, 1, 0, 0, 0, 1, 0, 0, 1, 0, 0, 1, 0, 0, 0, 0,\n",
              "       0, 0, 0])"
            ]
          },
          "metadata": {},
          "execution_count": 40
        }
      ]
    },
    {
      "cell_type": "code",
      "source": [
        "#Check actual train data\n",
        "y_train"
      ],
      "metadata": {
        "colab": {
          "base_uri": "https://localhost:8080/"
        },
        "id": "ojw5MLx8zZJ6",
        "outputId": "4868bb72-1f06-4c66-9990-7ac67d536511"
      },
      "execution_count": null,
      "outputs": [
        {
          "output_type": "execute_result",
          "data": {
            "text/plain": [
              "array([1, 1, 1, 0, 1, 0, 1, 1, 0, 0, 1, 0, 0, 1, 0, 0, 1, 1, 1, 0, 0, 1,\n",
              "       0, 0, 0, 1, 1, 0, 0, 1, 0, 1, 0, 0, 0, 0, 0, 0, 0, 0, 1, 0, 0, 1,\n",
              "       1, 0, 1, 1, 1, 1, 1, 0, 0, 0, 0, 1, 1, 0, 1, 1, 0, 0, 1, 1, 1, 1,\n",
              "       1, 1, 1, 1, 0, 1, 0, 1, 0, 0, 0, 0, 0, 0, 1, 0, 0, 1, 0, 1, 1, 1,\n",
              "       0, 0, 0, 0, 0, 0, 1, 1, 1, 1, 1, 1, 1, 1, 0, 0, 0, 1, 0, 1, 0, 1,\n",
              "       1, 0, 0, 0, 0, 1, 0, 0, 1, 1, 1, 1, 1, 1, 1, 0, 1, 0, 1, 1, 0, 0,\n",
              "       1, 1, 1, 1, 1, 1, 1, 1, 1, 1, 0, 0, 0, 0, 0, 1, 0, 0, 0, 1, 0, 0,\n",
              "       0, 1, 1, 0, 1, 0, 0, 0, 0, 0, 1, 0, 0, 1, 1, 1, 1, 0, 1, 1, 1, 0,\n",
              "       1, 0, 1, 0, 1, 1, 1, 0, 0, 1, 0, 1, 0, 1, 1, 1, 1, 0, 1, 1, 0, 1,\n",
              "       1, 1, 1, 0, 1, 1, 1, 0, 0, 1, 1, 0, 0, 1, 0, 1, 1, 0, 1, 1, 1, 0,\n",
              "       1, 1, 1, 0, 0, 0, 0, 0, 1, 1, 1, 1, 1, 0, 1, 0, 0, 0, 0, 0, 1, 1,\n",
              "       1, 0, 0, 0, 0, 0, 1, 0, 0, 1, 0, 1, 1, 1, 0, 0, 1, 0, 0, 1, 1, 0,\n",
              "       1, 1, 0, 1, 1, 1, 0, 0, 0, 0, 0, 1, 0, 0, 0, 1, 0, 0, 0, 1, 1, 0,\n",
              "       0, 0, 0, 1, 1, 1, 0, 0, 1, 1, 0, 1, 1, 1, 1, 1, 0, 0, 1, 1, 0, 1,\n",
              "       1, 0, 0, 1, 0, 0, 0, 0, 1, 0, 0, 0, 1, 1, 1, 1, 1, 1, 1, 1, 1, 0,\n",
              "       0, 0, 0, 0, 0, 0, 0, 0, 1, 0, 0, 1, 1, 0, 0, 1, 0, 0, 0, 0, 0, 1,\n",
              "       0, 1, 1, 1, 1, 1, 0, 1, 1, 0, 1, 1, 0, 0, 1, 1, 0, 0, 0, 0, 0, 0,\n",
              "       0, 1, 1, 1, 1, 0, 1, 1, 1, 0, 0, 1, 0, 0, 1, 0, 0, 1, 0, 0, 0, 0,\n",
              "       0, 0, 1])"
            ]
          },
          "metadata": {},
          "execution_count": 42
        }
      ]
    },
    {
      "cell_type": "code",
      "source": [
        "#Construct confusion matrix\n",
        "cm = confusion_matrix(y_train, y_predict_train)\n",
        "sns.heatmap(cm, annot=True, fmt=\"d\")"
      ],
      "metadata": {
        "colab": {
          "base_uri": "https://localhost:8080/",
          "height": 282
        },
        "id": "_Hm6cM-vzft-",
        "outputId": "46d65546-ff4b-478a-be9c-48778e1cc6f1"
      },
      "execution_count": null,
      "outputs": [
        {
          "output_type": "execute_result",
          "data": {
            "text/plain": [
              "<matplotlib.axes._subplots.AxesSubplot at 0x7fcf18722750>"
            ]
          },
          "metadata": {},
          "execution_count": 45
        },
        {
          "output_type": "display_data",
          "data": {
            "text/plain": [
              "<Figure size 432x288 with 2 Axes>"
            ],
            "image/png": "[encoded data removed]"
          },
          "metadata": {
            "needs_background": "light"
          }
        }
      ]
    },
    {
      "cell_type": "code",
      "source": [
        "#Predict on testing set\n",
        "y_predict_test = lr.predict(X_test)\n",
        "y_predict_test"
      ],
      "metadata": {
        "colab": {
          "base_uri": "https://localhost:8080/"
        },
        "id": "aFOjNYhIz3r7",
        "outputId": "223bf427-a507-457b-c25c-bdd144607ca1"
      },
      "execution_count": null,
      "outputs": [
        {
          "output_type": "execute_result",
          "data": {
            "text/plain": [
              "array([1, 0, 0, 0, 1, 0, 0, 0, 0, 0, 0, 1, 1, 1, 1, 0, 0, 0, 1, 1, 1, 0,\n",
              "       1, 1, 0, 1, 0, 0, 0, 0, 1, 1, 0, 0, 0, 1, 0, 1, 1, 0, 1, 0, 0, 0,\n",
              "       0, 1, 0, 1, 0, 0, 1, 1, 1, 1, 1, 0, 0, 1, 1, 1, 0, 0, 1, 1, 0, 1,\n",
              "       1, 0, 1, 1, 0, 1, 0, 0, 0, 0, 0, 0, 1, 1, 0, 0, 0, 0, 0, 1, 1, 1,\n",
              "       1, 1, 1, 0, 1, 1, 0, 1, 0, 0, 1, 1])"
            ]
          },
          "metadata": {},
          "execution_count": 46
        }
      ]
    },
    {
      "cell_type": "code",
      "source": [
        "#View on actual test data\n",
        "y_test"
      ],
      "metadata": {
        "colab": {
          "base_uri": "https://localhost:8080/"
        },
        "id": "4eKWjR5p0fr-",
        "outputId": "5e841f4f-da8f-4ddc-b8ed-3ff6e0752d9e"
      },
      "execution_count": null,
      "outputs": [
        {
          "output_type": "execute_result",
          "data": {
            "text/plain": [
              "array([1, 1, 0, 1, 1, 0, 0, 0, 1, 0, 0, 1, 0, 1, 1, 0, 0, 0, 1, 1, 1, 0,\n",
              "       0, 1, 0, 0, 0, 0, 1, 1, 1, 1, 0, 0, 0, 1, 0, 1, 1, 0, 1, 1, 0, 0,\n",
              "       0, 1, 0, 1, 0, 1, 1, 1, 1, 1, 1, 0, 0, 1, 1, 1, 0, 0, 1, 1, 0, 1,\n",
              "       0, 0, 1, 1, 0, 1, 0, 0, 0, 0, 0, 1, 1, 0, 0, 0, 0, 0, 0, 1, 1, 1,\n",
              "       1, 1, 1, 0, 1, 1, 0, 1, 0, 1, 1, 1])"
            ]
          },
          "metadata": {},
          "execution_count": 47
        }
      ]
    },
    {
      "cell_type": "code",
      "source": [
        "#Construct confusion matrix\n",
        "cm = confusion_matrix(y_test, y_predict_test)\n",
        "sns.heatmap(cm, annot=True, fmt=\"d\")"
      ],
      "metadata": {
        "colab": {
          "base_uri": "https://localhost:8080/",
          "height": 282
        },
        "id": "bmfqqE8R0oiF",
        "outputId": "9bd1bdcf-0d1a-4990-ac42-4f4025483531"
      },
      "execution_count": null,
      "outputs": [
        {
          "output_type": "execute_result",
          "data": {
            "text/plain": [
              "<matplotlib.axes._subplots.AxesSubplot at 0x7fcf15e35c90>"
            ]
          },
          "metadata": {},
          "execution_count": 48
        },
        {
          "output_type": "display_data",
          "data": {
            "text/plain": [
              "<Figure size 432x288 with 2 Axes>"
            ],
            "image/png": "[encoded data removed]"
          },
          "metadata": {
            "needs_background": "light"
          }
        }
      ]
    },
    {
      "cell_type": "code",
      "source": [
        "#Tabulate classification report\n",
        "print(classification_report(y_test, y_predict_test))"
      ],
      "metadata": {
        "colab": {
          "base_uri": "https://localhost:8080/"
        },
        "id": "ZgXED4Hd0vzV",
        "outputId": "1c5bd51c-ee07-4f9f-eaac-336bef780404"
      },
      "execution_count": null,
      "outputs": [
        {
          "output_type": "stream",
          "name": "stdout",
          "text": [
            "              precision    recall  f1-score   support\n",
            "\n",
            "           0       0.83      0.90      0.86        48\n",
            "           1       0.90      0.83      0.86        52\n",
            "\n",
            "    accuracy                           0.86       100\n",
            "   macro avg       0.86      0.86      0.86       100\n",
            "weighted avg       0.86      0.86      0.86       100\n",
            "\n"
          ]
        }
      ]
    },
    {
      "cell_type": "markdown",
      "source": [
        "#####The model has a precison "
      ],
      "metadata": {
        "id": "FlnIjKnHMnZP"
      }
    },
    {
      "cell_type": "code",
      "source": [
        "#Visualize the testing data\n",
        "from matplotlib.colors import ListedColormap\n",
        "X_set, y_set = X_test, y_test\n",
        "X1, X2 = np.meshgrid(np.arange(start = X_set[:, 0].min() - 1, stop = X_set[:, 0].max() + 1, step = 0.01),    #to construct meshgrid\n",
        "                     np.arange(start = X_set[:, 1].min() - 1, stop = X_set[:, 1].max() + 1, step = 0.01))\n",
        "plt.contourf(X1, X2, lr.predict(np.array([X1.ravel(), X2.ravel()]).T).reshape(X1.shape),    #to predict the dot\n",
        "             alpha = 0.75, cmap = ListedColormap(('magenta', 'blue')))\n",
        "plt.xlim(X1.min(), X1.max())          #limit the axis\n",
        "plt.ylim(X2.min(), X2.max())\n",
        "\n",
        "for i, j in enumerate(np.unique(y_set)):\n",
        "    plt.scatter(X_set[y_set == j, 0], X_set[y_set == j, 1],\n",
        "                c = ListedColormap(('magenta', 'blue'))(i), label = j)\n",
        "    \n",
        "plt.title('Facebook Ad: Customer Click Prediction (Testing set)')\n",
        "plt.xlabel('Time Spent on Site')\n",
        "plt.ylabel('Estimated Salary')\n",
        "plt.legend()\n",
        "plt.show()"
      ],
      "metadata": {
        "colab": {
          "base_uri": "https://localhost:8080/",
          "height": 350
        },
        "id": "Uf4TR5XV01b6",
        "outputId": "34f71cfb-d700-4de1-bd0e-a8cf66fc872b"
      },
      "execution_count": null,
      "outputs": [
        {
          "output_type": "stream",
          "name": "stderr",
          "text": [
            "*c* argument looks like a single numeric RGB or RGBA sequence, which should be avoided as value-mapping will have precedence in case its length matches with *x* & *y*.  Please use the *color* keyword-argument or provide a 2-D array with a single row if you intend to specify the same RGB or RGBA value for all points.\n",
            "*c* argument looks like a single numeric RGB or RGBA sequence, which should be avoided as value-mapping will have precedence in case its length matches with *x* & *y*.  Please use the *color* keyword-argument or provide a 2-D array with a single row if you intend to specify the same RGB or RGBA value for all points.\n"
          ]
        },
        {
          "output_type": "display_data",
          "data": {
            "text/plain": [
              "<Figure size 432x288 with 1 Axes>"
            ],
            "image/png": "[encoded data removed]"
          },
          "metadata": {
            "needs_background": "light"
          }
        }
      ]
    },
    {
      "cell_type": "markdown",
      "source": [
        "#####The dots and boudary in magenta color represent customers have not clicked on the Facebook ads while the blue color represent they have clicked on the ads. \n",
        "######Misclassification arises when the dots are in different color of boundary. However, the classification report shows that this model able to predict 86% accurate. "
      ],
      "metadata": {
        "id": "prXWCFsK3qpN"
      }
    },
    {
      "cell_type": "code",
      "source": [
        ""
      ],
      "metadata": {
        "id": "A7zC8iXfRkis"
      },
      "execution_count": 14,
      "outputs": []
    }
  ]
}